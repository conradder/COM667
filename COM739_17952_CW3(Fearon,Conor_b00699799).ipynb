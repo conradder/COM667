{
  "nbformat": 4,
  "nbformat_minor": 0,
  "metadata": {
    "accelerator": "TPU",
    "colab": {
      "name": "COM739_17952_CW3(Fearon,Conor b00699799).ipynb",
      "provenance": [],
      "collapsed_sections": [],
      "include_colab_link": true
    },
    "kernelspec": {
      "display_name": "Python 3",
      "language": "python",
      "name": "python3"
    },
    "language_info": {
      "codemirror_mode": {
        "name": "ipython",
        "version": 3
      },
      "file_extension": ".py",
      "mimetype": "text/x-python",
      "name": "python",
      "nbconvert_exporter": "python",
      "pygments_lexer": "ipython3",
      "version": "3.8.8"
    }
  },
  "cells": [
    {
      "cell_type": "markdown",
      "metadata": {
        "id": "view-in-github",
        "colab_type": "text"
      },
      "source": [
        "<a href=\"https://colab.research.google.com/github/conradder/COM667/blob/master/COM739_17952_CW3(Fearon%2CConor_b00699799).ipynb\" target=\"_parent\"><img src=\"https://colab.research.google.com/assets/colab-badge.svg\" alt=\"Open In Colab\"/></a>"
      ]
    },
    {
      "cell_type": "markdown",
      "metadata": {
        "id": "f4M-Qf6JZWuD"
      },
      "source": [
        "**Initial Setup**\n",
        "\n",
        "1. First, you will setup your CoLab environment. Run the cell below."
      ]
    },
    {
      "cell_type": "code",
      "metadata": {
        "id": "iyDn8qrkcDRx",
        "colab": {
          "base_uri": "https://localhost:8080/"
        },
        "outputId": "83c14b05-4877-4ee8-b2cf-97522dae44ec"
      },
      "source": [
        "!pip install pyspark\n",
        "!pip install -U -q PyDrive\n",
        "!apt install openjdk-8-jdk-headless -qq\n",
        "import os\n",
        "os.environ[\"JAVA_HOME\"] = \"/usr/lib/jvm/java-8-openjdk-amd64\""
      ],
      "execution_count": null,
      "outputs": [
        {
          "output_type": "stream",
          "name": "stdout",
          "text": [
            "Collecting pyspark\n",
            "  Downloading pyspark-3.2.0.tar.gz (281.3 MB)\n",
            "\u001b[K     |████████████████████████████████| 281.3 MB 37 kB/s \n",
            "\u001b[?25hCollecting py4j==0.10.9.2\n",
            "  Downloading py4j-0.10.9.2-py2.py3-none-any.whl (198 kB)\n",
            "\u001b[K     |████████████████████████████████| 198 kB 30.1 MB/s \n",
            "\u001b[?25hBuilding wheels for collected packages: pyspark\n",
            "  Building wheel for pyspark (setup.py) ... \u001b[?25l\u001b[?25hdone\n",
            "  Created wheel for pyspark: filename=pyspark-3.2.0-py2.py3-none-any.whl size=281805912 sha256=f2653df30113c564787847636825e3fd1cf93e5e6b0e81391da4dab59f31ff3b\n",
            "  Stored in directory: /root/.cache/pip/wheels/0b/de/d2/9be5d59d7331c6c2a7c1b6d1a4f463ce107332b1ecd4e80718\n",
            "Successfully built pyspark\n",
            "Installing collected packages: py4j, pyspark\n",
            "Successfully installed py4j-0.10.9.2 pyspark-3.2.0\n",
            "The following additional packages will be installed:\n",
            "  openjdk-8-jre-headless\n",
            "Suggested packages:\n",
            "  openjdk-8-demo openjdk-8-source libnss-mdns fonts-dejavu-extra\n",
            "  fonts-ipafont-gothic fonts-ipafont-mincho fonts-wqy-microhei\n",
            "  fonts-wqy-zenhei fonts-indic\n",
            "The following NEW packages will be installed:\n",
            "  openjdk-8-jdk-headless openjdk-8-jre-headless\n",
            "0 upgraded, 2 newly installed, 0 to remove and 37 not upgraded.\n",
            "Need to get 36.5 MB of archives.\n",
            "After this operation, 143 MB of additional disk space will be used.\n",
            "Selecting previously unselected package openjdk-8-jre-headless:amd64.\n",
            "(Reading database ... 155222 files and directories currently installed.)\n",
            "Preparing to unpack .../openjdk-8-jre-headless_8u292-b10-0ubuntu1~18.04_amd64.deb ...\n",
            "Unpacking openjdk-8-jre-headless:amd64 (8u292-b10-0ubuntu1~18.04) ...\n",
            "Selecting previously unselected package openjdk-8-jdk-headless:amd64.\n",
            "Preparing to unpack .../openjdk-8-jdk-headless_8u292-b10-0ubuntu1~18.04_amd64.deb ...\n",
            "Unpacking openjdk-8-jdk-headless:amd64 (8u292-b10-0ubuntu1~18.04) ...\n",
            "Setting up openjdk-8-jre-headless:amd64 (8u292-b10-0ubuntu1~18.04) ...\n",
            "update-alternatives: using /usr/lib/jvm/java-8-openjdk-amd64/jre/bin/orbd to provide /usr/bin/orbd (orbd) in auto mode\n",
            "update-alternatives: using /usr/lib/jvm/java-8-openjdk-amd64/jre/bin/servertool to provide /usr/bin/servertool (servertool) in auto mode\n",
            "update-alternatives: using /usr/lib/jvm/java-8-openjdk-amd64/jre/bin/tnameserv to provide /usr/bin/tnameserv (tnameserv) in auto mode\n",
            "Setting up openjdk-8-jdk-headless:amd64 (8u292-b10-0ubuntu1~18.04) ...\n",
            "update-alternatives: using /usr/lib/jvm/java-8-openjdk-amd64/bin/idlj to provide /usr/bin/idlj (idlj) in auto mode\n",
            "update-alternatives: using /usr/lib/jvm/java-8-openjdk-amd64/bin/wsimport to provide /usr/bin/wsimport (wsimport) in auto mode\n",
            "update-alternatives: using /usr/lib/jvm/java-8-openjdk-amd64/bin/jsadebugd to provide /usr/bin/jsadebugd (jsadebugd) in auto mode\n",
            "update-alternatives: using /usr/lib/jvm/java-8-openjdk-amd64/bin/native2ascii to provide /usr/bin/native2ascii (native2ascii) in auto mode\n",
            "update-alternatives: using /usr/lib/jvm/java-8-openjdk-amd64/bin/javah to provide /usr/bin/javah (javah) in auto mode\n",
            "update-alternatives: using /usr/lib/jvm/java-8-openjdk-amd64/bin/hsdb to provide /usr/bin/hsdb (hsdb) in auto mode\n",
            "update-alternatives: using /usr/lib/jvm/java-8-openjdk-amd64/bin/clhsdb to provide /usr/bin/clhsdb (clhsdb) in auto mode\n",
            "update-alternatives: using /usr/lib/jvm/java-8-openjdk-amd64/bin/extcheck to provide /usr/bin/extcheck (extcheck) in auto mode\n",
            "update-alternatives: using /usr/lib/jvm/java-8-openjdk-amd64/bin/schemagen to provide /usr/bin/schemagen (schemagen) in auto mode\n",
            "update-alternatives: using /usr/lib/jvm/java-8-openjdk-amd64/bin/xjc to provide /usr/bin/xjc (xjc) in auto mode\n",
            "update-alternatives: using /usr/lib/jvm/java-8-openjdk-amd64/bin/jhat to provide /usr/bin/jhat (jhat) in auto mode\n",
            "update-alternatives: using /usr/lib/jvm/java-8-openjdk-amd64/bin/wsgen to provide /usr/bin/wsgen (wsgen) in auto mode\n"
          ]
        }
      ]
    },
    {
      "cell_type": "markdown",
      "metadata": {
        "id": "oLuQyFfv945l"
      },
      "source": [
        "Now we authenticate a Google Drive client to download the file we will be processing in our Spark job.\n",
        "\n",
        "**Make sure to follow the interactive instructions.**"
      ]
    },
    {
      "cell_type": "code",
      "metadata": {
        "id": "Kq_Z4KZBlz1Y"
      },
      "source": [
        "from pydrive.auth import GoogleAuth\n",
        "from pydrive.drive import GoogleDrive\n",
        "from google.colab import auth\n",
        "from oauth2client.client import GoogleCredentials\n",
        "\n",
        "\n",
        "# Authenticate and create the PyDrive client\n",
        "auth.authenticate_user()\n",
        "gauth = GoogleAuth()\n",
        "gauth.credentials = GoogleCredentials.get_application_default()\n",
        "drive = GoogleDrive(gauth)"
      ],
      "execution_count": null,
      "outputs": []
    },
    {
      "cell_type": "markdown",
      "metadata": {
        "id": "mzgVstB--CBc"
      },
      "source": [
        "Download both anime.csv and rating.csv, and store it in your google drive. It is advisable to create a separate project folder, where you can store this dataset and also your code.\n",
        "\n",
        "The script will give you the id of the two files in your drive."
      ]
    },
    {
      "cell_type": "code",
      "metadata": {
        "id": "uTCTGdj90mvn",
        "colab": {
          "base_uri": "https://localhost:8080/"
        },
        "outputId": "dc77abb5-31a8-41ec-ff16-f9ec84a97c1d"
      },
      "source": [
        "file_list = drive.ListFile({'q': \"'1Oi8cMnAfJVZH9-FyXGxwOrGGCIkkB7uy' in parents\"}).GetList()\n",
        "for f in file_list:\n",
        "  print('title: %s, id: %s' % (f['title'], f['id']))"
      ],
      "execution_count": null,
      "outputs": [
        {
          "output_type": "stream",
          "name": "stdout",
          "text": [
            "title: rating.csv, id: 1f76dQZxRB1fNaReBv_DnUDVkIXNm7mw9\n",
            "title: anime.csv, id: 1TppJoj4QVJlc_HML20xmH847Brrw0Zfc\n"
          ]
        }
      ]
    },
    {
      "cell_type": "markdown",
      "metadata": {
        "id": "6zwibooR_do9"
      },
      "source": [
        "If you executed the cells below, you should be able to see the dataset we will need for this Colab under the \"Files\" tab on the left panel."
      ]
    },
    {
      "cell_type": "code",
      "metadata": {
        "id": "RDb3bcspuvyi"
      },
      "source": [
        "# Change the id, if it differs from the one below.\n",
        "id='1TppJoj4QVJlc_HML20xmH847Brrw0Zfc'\n",
        "downloaded = drive.CreateFile({'id': id})\n",
        "downloaded.GetContentFile('anime.csv')\n",
        "\n",
        "id='1f76dQZxRB1fNaReBv_DnUDVkIXNm7mw9'\n",
        "downloaded = drive.CreateFile({'id': id})\n",
        "downloaded.GetContentFile('rating.csv')"
      ],
      "execution_count": null,
      "outputs": []
    },
    {
      "cell_type": "markdown",
      "metadata": {
        "id": "MkVgWJCZ_kA1"
      },
      "source": [
        "Here is a list of packages that might be useful to you. \n",
        "\n",
        "**Student Activity: Add the packages you need to carry out your analysis here** "
      ]
    },
    {
      "cell_type": "code",
      "metadata": {
        "id": "c6S53q8Ur9cf"
      },
      "source": [
        "import pandas as pd\n",
        "import numpy as np\n",
        "import matplotlib.pyplot as plt\n",
        "%matplotlib inline\n",
        "\n",
        "# Student Activity: Add your packages here.\n",
        "import math\n",
        "from pyspark import SparkContext, SparkConf\n",
        "from pyspark.sql.session import SparkSession\n",
        "from pyspark.sql.functions import *\n",
        "from pyspark.sql.types import IntegerType\n",
        "from pyspark.ml.recommendation import ALS\n",
        "from pyspark.ml.evaluation import RegressionEvaluator\n",
        "import seaborn as sns\n"
      ],
      "execution_count": null,
      "outputs": []
    },
    {
      "cell_type": "markdown",
      "metadata": {
        "id": "cLvokhSvcMcG"
      },
      "source": [
        "**This step initializes the Spark context.**"
      ]
    },
    {
      "cell_type": "code",
      "metadata": {
        "id": "zQXrcZwKZOhO"
      },
      "source": [
        "# create the session\n",
        "#conf = SparkConf().set(\"spark.ui.port\", \"4050\")\n",
        "\n",
        "\n",
        "# create the context\n",
        "#sc = pyspark.SparkContext(conf=conf)\n",
        "\n",
        "#spark = SparkSession.builder.getOrCreate()\n",
        "\n",
        "conf = SparkConf().set(\"spark.ui.port\", \"4050\")\n",
        "\n",
        "# create the context\n",
        "sc = SparkContext(conf=conf)\n",
        "spark = SparkSession.builder.getOrCreate()"
      ],
      "execution_count": null,
      "outputs": []
    },
    {
      "cell_type": "markdown",
      "metadata": {
        "id": "SJmuKtJUagDZ"
      },
      "source": [
        "You can easily check the current version and get the link of the web interface. In the Spark UI, you can monitor the progress of your job and debug the performance bottlenecks (if your Colab is running with a local runtime)."
      ]
    },
    {
      "cell_type": "code",
      "metadata": {
        "id": "OT25Rxufje4A",
        "colab": {
          "base_uri": "https://localhost:8080/",
          "height": 219
        },
        "outputId": "cb922e9a-f228-4a52-9b4a-8731c06c1f3c"
      },
      "source": [
        "spark"
      ],
      "execution_count": null,
      "outputs": [
        {
          "output_type": "execute_result",
          "data": {
            "text/html": [
              "\n",
              "            <div>\n",
              "                <p><b>SparkSession - in-memory</b></p>\n",
              "                \n",
              "        <div>\n",
              "            <p><b>SparkContext</b></p>\n",
              "\n",
              "            <p><a href=\"http://44bdf62e50fc:4050\">Spark UI</a></p>\n",
              "\n",
              "            <dl>\n",
              "              <dt>Version</dt>\n",
              "                <dd><code>v3.2.0</code></dd>\n",
              "              <dt>Master</dt>\n",
              "                <dd><code>local[*]</code></dd>\n",
              "              <dt>AppName</dt>\n",
              "                <dd><code>pyspark-shell</code></dd>\n",
              "            </dl>\n",
              "        </div>\n",
              "        \n",
              "            </div>\n",
              "        "
            ],
            "text/plain": [
              "<pyspark.sql.session.SparkSession at 0x7f6958f61590>"
            ]
          },
          "metadata": {},
          "execution_count": 8
        }
      ]
    },
    {
      "cell_type": "markdown",
      "metadata": {
        "id": "iK9ISlEuAnkM"
      },
      "source": [
        "## **From this point onwards, you are supposed to do the coding yourself. Follow the steps as mentioned below in its appropriate place.**"
      ]
    },
    {
      "cell_type": "markdown",
      "metadata": {
        "id": "2r6S-Jr4A52U"
      },
      "source": [
        "**1. Student Activity: Read the datasets here. You must write the script for the first question and explore both the files here.**\n",
        "\n",
        "Q1. Identify and describe the number of columns in the two dataset files."
      ]
    },
    {
      "cell_type": "markdown",
      "metadata": {
        "id": "EL0qlq9Gyctk"
      },
      "source": [
        "I will bring the CSV files in as an RDD and use printSchema() to display the column names and data type for each column. Note the datatype for episodes is a string."
      ]
    },
    {
      "cell_type": "code",
      "metadata": {
        "id": "ce0qaZfDhsdo",
        "colab": {
          "base_uri": "https://localhost:8080/"
        },
        "outputId": "6b5938d4-03be-48cb-e86d-f43dd9f280f9"
      },
      "source": [
        "#bring the rating csv files as rdd and show shcema (inc headers and schema)\n",
        "ratings = spark.read.csv(\"rating.csv\", header=True, inferSchema = True)\n",
        "ratings.printSchema()"
      ],
      "execution_count": null,
      "outputs": [
        {
          "output_type": "stream",
          "name": "stdout",
          "text": [
            "root\n",
            " |-- user_id: integer (nullable = true)\n",
            " |-- anime_id: integer (nullable = true)\n",
            " |-- rating: integer (nullable = true)\n",
            "\n"
          ]
        }
      ]
    },
    {
      "cell_type": "code",
      "metadata": {
        "colab": {
          "base_uri": "https://localhost:8080/"
        },
        "id": "KD6fyL0IGWWy",
        "outputId": "b292023c-9d09-4fdd-ed79-5ec7c0c59f65"
      },
      "source": [
        "#bring the anime csv files as rdd and show shcema  (inc headers and schema)\n",
        "anime  = spark.read.csv(\"anime.csv\", header=True, inferSchema = True)\n",
        "anime.printSchema()"
      ],
      "execution_count": null,
      "outputs": [
        {
          "output_type": "stream",
          "name": "stdout",
          "text": [
            "root\n",
            " |-- anime_id: integer (nullable = true)\n",
            " |-- name: string (nullable = true)\n",
            " |-- genre: string (nullable = true)\n",
            " |-- type: string (nullable = true)\n",
            " |-- episodes: string (nullable = true)\n",
            " |-- rating: double (nullable = true)\n",
            " |-- members: integer (nullable = true)\n",
            "\n"
          ]
        }
      ]
    },
    {
      "cell_type": "markdown",
      "metadata": {
        "id": "-gmMlFliy5I0"
      },
      "source": [
        "I will use count() and len() to get the number of rows and number of columns "
      ]
    },
    {
      "cell_type": "code",
      "metadata": {
        "colab": {
          "base_uri": "https://localhost:8080/"
        },
        "id": "WRk8Mh72GjDY",
        "outputId": "0720f59f-2048-4f49-c6d6-7187c2681bf9"
      },
      "source": [
        "\n",
        "print(\"Number of rows in each rdd:\\n *Anime:\\t\", anime.count(), \"\\n *ratings:\\t\" , ratings.count())\n",
        "print(\"Number of Columns in each rdd:\\n *Anime:\\t\", len(anime.columns), \"\\n *ratings:\\t\" , len(ratings.columns))\n"
      ],
      "execution_count": null,
      "outputs": [
        {
          "output_type": "stream",
          "name": "stdout",
          "text": [
            "Number of rows in each rdd:\n",
            " *Anime:\t 12294 \n",
            " *ratings:\t 7813737\n",
            "Number of Columns in each rdd:\n",
            " *Anime:\t 7 \n",
            " *ratings:\t 3\n"
          ]
        }
      ]
    },
    {
      "cell_type": "markdown",
      "metadata": {
        "id": "0_ZtGdHCzGyP"
      },
      "source": [
        ".describe.show() will give an overview of each RDD. Note the min rating in ratings is '-1' and max value of episodes in anime is 'unknown'"
      ]
    },
    {
      "cell_type": "code",
      "metadata": {
        "colab": {
          "base_uri": "https://localhost:8080/"
        },
        "id": "kxIG7T51H9HW",
        "outputId": "91534635-4b9e-4989-9b1c-6963a49deb92"
      },
      "source": [
        "ratings.describe().show()"
      ],
      "execution_count": null,
      "outputs": [
        {
          "output_type": "stream",
          "name": "stdout",
          "text": [
            "+-------+------------------+-----------------+------------------+\n",
            "|summary|           user_id|         anime_id|            rating|\n",
            "+-------+------------------+-----------------+------------------+\n",
            "|  count|           7813737|          7813737|           7813737|\n",
            "|   mean|36727.956744640884|8909.072104295294| 6.144029546937656|\n",
            "| stddev|20997.946118973723| 8883.94963588107|3.7278004201098067|\n",
            "|    min|                 1|                1|                -1|\n",
            "|    max|             73516|            34519|                10|\n",
            "+-------+------------------+-----------------+------------------+\n",
            "\n"
          ]
        }
      ]
    },
    {
      "cell_type": "code",
      "metadata": {
        "colab": {
          "base_uri": "https://localhost:8080/"
        },
        "id": "CyVA1NS8IGmI",
        "outputId": "706c145c-a3c3-4b8d-f5d8-07a053ccb439"
      },
      "source": [
        "anime.describe().show()\n",
        "#note string in episodes!"
      ],
      "execution_count": null,
      "outputs": [
        {
          "output_type": "stream",
          "name": "stdout",
          "text": [
            "+-------+------------------+-----------------+------+-----+------------------+-----------------+-----------------+\n",
            "|summary|          anime_id|             name| genre| type|          episodes|           rating|          members|\n",
            "+-------+------------------+-----------------+------+-----+------------------+-----------------+-----------------+\n",
            "|  count|             12294|            12294| 12232|12269|             12294|            12064|            12294|\n",
            "|   mean|14058.221652838783|         166778.5|  null| null|12.382549774134182|6.473901690981445|18071.33886448674|\n",
            "| stddev|11455.294700988177|330891.6746051493|  null| null| 46.86535196440979|1.026746306898068|54820.67692490701|\n",
            "|    min|                 1|    &quot;0&quot;|Action|Movie|                 1|             1.67|                5|\n",
            "|    max|             34527|                ◯|  Yaoi|   TV|           Unknown|             10.0|          1013917|\n",
            "+-------+------------------+-----------------+------+-----+------------------+-----------------+-----------------+\n",
            "\n"
          ]
        }
      ]
    },
    {
      "cell_type": "markdown",
      "metadata": {
        "id": "TRldrx3Xzep1"
      },
      "source": [
        "I believe a rating of -1 shouldn't be counted as these represent movies watched but not rated - therefore dont 'represent' a number rating. I will run a query to see the distribution of ratings. The table and plot below show the -1's would skew any calculation on the ratings so should be removed. Once removed the ratings would be normally distributed "
      ]
    },
    {
      "cell_type": "code",
      "metadata": {
        "colab": {
          "base_uri": "https://localhost:8080/",
          "height": 590
        },
        "id": "6l7FdpkSaC-B",
        "outputId": "3a994050-c7b3-4bc7-8b19-f4c29cd55563"
      },
      "source": [
        "ratings.createOrReplaceTempView(\"ratings\")\n",
        "\n",
        "s = spark.sql(\"SELECT rating, count(rating) as count FROM ratings group by rating order by rating \")\n",
        "s.show()\n",
        "s = s.toPandas()\n",
        "\n",
        "sns.set_style(\"whitegrid\")\n",
        "bar,ax = plt.subplots(figsize=None)\n",
        "ax = sns.barplot(x='rating', y='count', data=s, ci=None, palette=\"muted\",orient='v')\n",
        "ax.set_title(\"Total votes per user rating\")\n",
        "ax.set_xlabel (\"Rating\")\n",
        "ax.set_ylabel (\"Count (million)\")\n"
      ],
      "execution_count": null,
      "outputs": [
        {
          "output_type": "stream",
          "name": "stdout",
          "text": [
            "+------+-------+\n",
            "|rating|  count|\n",
            "+------+-------+\n",
            "|    -1|1476496|\n",
            "|     1|  16649|\n",
            "|     2|  23150|\n",
            "|     3|  41453|\n",
            "|     4| 104291|\n",
            "|     5| 282806|\n",
            "|     6| 637775|\n",
            "|     7|1375287|\n",
            "|     8|1646019|\n",
            "|     9|1254096|\n",
            "|    10| 955715|\n",
            "+------+-------+\n",
            "\n"
          ]
        },
        {
          "output_type": "execute_result",
          "data": {
            "text/plain": [
              "Text(0, 0.5, 'Count (million)')"
            ]
          },
          "metadata": {},
          "execution_count": 26
        },
        {
          "output_type": "display_data",
          "data": {
            "image/png": "[encoded data removed]",
            "text/plain": [
              "<Figure size 432x288 with 1 Axes>"
            ]
          },
          "metadata": {}
        }
      ]
    },
    {
      "cell_type": "markdown",
      "metadata": {
        "id": "jm7N9uNYbs_y"
      },
      "source": [
        "**2. Student Activity: Preprocess the datasets here. You must write the script for the second question here. Make sure to check if the script is running is correctly or not**\n",
        "\n",
        "Q2. Merge/Join/Combine the two datasets and identify the key common column that would you have performed? "
      ]
    },
    {
      "cell_type": "markdown",
      "metadata": {
        "id": "RGaFjU4vz_9f"
      },
      "source": [
        "Note: i used an inner join as these would discount any anime_id not in ratings and vice versa. "
      ]
    },
    {
      "cell_type": "code",
      "metadata": {
        "id": "RWQ4NGpl9btl",
        "colab": {
          "base_uri": "https://localhost:8080/"
        },
        "outputId": "d80740a9-24ca-4730-9cd9-c0319782fc84"
      },
      "source": [
        "#inner join\n",
        "anime_ratings = ratings.join(anime, ratings.anime_id == anime.anime_id, 'inner')\n",
        "anime_ratings.show()\n",
        "# count shows 10 anime ID in ratings not in anime!!!"
      ],
      "execution_count": null,
      "outputs": [
        {
          "output_type": "stream",
          "name": "stdout",
          "text": [
            "+-------+--------+------+--------+--------------------+--------------------+-----+--------+------+-------+\n",
            "|user_id|anime_id|rating|anime_id|                name|               genre| type|episodes|rating|members|\n",
            "+-------+--------+------+--------+--------------------+--------------------+-----+--------+------+-------+\n",
            "|      1|      20|    -1|      20|              Naruto|Action, Comedy, M...|   TV|     220|  7.81| 683297|\n",
            "|      1|      24|    -1|      24|       School Rumble|Comedy, Romance, ...|   TV|      26|  8.06| 178553|\n",
            "|      1|      79|    -1|      79|            Shuffle!|Comedy, Drama, Ec...|   TV|      24|  7.31| 158772|\n",
            "|      1|     226|    -1|     226|          Elfen Lied|Action, Drama, Ho...|   TV|      13|  7.85| 623511|\n",
            "|      1|     241|    -1|     241|Girls Bravo: Firs...|Comedy, Ecchi, Fa...|   TV|      11|  6.69|  84395|\n",
            "|      1|     355|    -1|     355|   Shakugan no Shana|Action, Drama, Fa...|   TV|      24|  7.74| 297058|\n",
            "|      1|     356|    -1|     356|     Fate/stay night|Action, Fantasy, ...|   TV|      24|  7.58| 374880|\n",
            "|      1|     442|    -1|     442|Naruto Movie 1: D...|Adventure, Comedy...|Movie|       1|  7.17| 120571|\n",
            "|      1|     487|    -1|     487|Girls Bravo: Seco...|Comedy, Ecchi, Fa...|   TV|      13|   6.9|  57110|\n",
            "|      1|     846|    -1|     846|School Rumble Ni ...|Comedy, Romance, ...|   TV|      26|  8.15|  93095|\n",
            "|      1|     936|    -1|     936|Naruto Movie 2: D...|Adventure, Comedy...|Movie|       1|  6.99|  97308|\n",
            "|      1|    1546|    -1|    1546|            Negima!?|Adventure, Comedy...|   TV|      26|  7.21|  44009|\n",
            "|      1|    1692|    -1|    1692|             _Summer|Drama, Harem, Rom...|  OVA|       2|  5.88|   7051|\n",
            "|      1|    1836|    -1|    1836|   Shuffle! Memories|Comedy, Drama, Ec...|   TV|      12|  6.63|  34109|\n",
            "|      1|    2001|    -1|    2001|Tengen Toppa Gurr...|Action, Adventure...|   TV|      27|  8.78| 562962|\n",
            "|      1|    2025|    -1|    2025|Darker than Black...|Action, Mystery, ...|   TV|      25|  8.25| 440334|\n",
            "|      1|    2144|    -1|    2144|Naruto Movie 3: D...|   Action, Adventure|Movie|       1|  6.95|  91526|\n",
            "|      1|    2787|    -1|    2787|Shakugan no Shana...|Action, Drama, Fa...|   TV|      24|  7.79| 184525|\n",
            "|      1|    2993|    -1|    2993|  Rosario to Vampire|Comedy, Ecchi, Fa...|   TV|      13|  7.14| 299278|\n",
            "|      1|    3455|    -1|    3455|          To LOVE-Ru|Comedy, Ecchi, Ha...|   TV|      26|  7.34| 237563|\n",
            "+-------+--------+------+--------+--------------------+--------------------+-----+--------+------+-------+\n",
            "only showing top 20 rows\n",
            "\n"
          ]
        }
      ]
    },
    {
      "cell_type": "markdown",
      "metadata": {
        "id": "hwtkcRCYCemO"
      },
      "source": [
        "**3. Student Activity: Now do some exploratory analysis. You must write the script for the third and fourth question here. Make sure to check if the script is running is correctly or not**\n"
      ]
    },
    {
      "cell_type": "code",
      "metadata": {
        "colab": {
          "base_uri": "https://localhost:8080/"
        },
        "id": "6NG5w6oIra_3",
        "outputId": "c5d0d25f-738a-448c-edaa-40c3dc27f78f"
      },
      "source": [
        "anime_ratings.count()==ratings.count()"
      ],
      "execution_count": null,
      "outputs": [
        {
          "output_type": "execute_result",
          "data": {
            "text/plain": [
              "False"
            ]
          },
          "metadata": {},
          "execution_count": 58
        }
      ]
    },
    {
      "cell_type": "markdown",
      "metadata": {
        "id": "qxCLzOHzsTKC"
      },
      "source": [
        "The number of rows in the joined table doens't match the number of rows in the ratings RDD. This would suggest there were Anime_ID in ratings that were not in the anime table. "
      ]
    },
    {
      "cell_type": "code",
      "metadata": {
        "id": "CanjN0sS3wmo"
      },
      "source": [
        ""
      ],
      "execution_count": null,
      "outputs": []
    },
    {
      "cell_type": "markdown",
      "metadata": {
        "id": "xf7j8IsfrO_o"
      },
      "source": [
        "Q3. Find the top 10 anime based on rating. Use tabular/graphical presentation to provide evidence of your analysis."
      ]
    },
    {
      "cell_type": "markdown",
      "metadata": {
        "id": "cEuDcahT0vbY"
      },
      "source": [
        "**I undertook three different methods to produce a “Top 10 Anime”**. \n",
        "\n",
        "First was a simple query on the Anime RDD where I selected the Anime name and rating, ordered by rating in descending order."
      ]
    },
    {
      "cell_type": "code",
      "metadata": {
        "colab": {
          "base_uri": "https://localhost:8080/"
        },
        "id": "FvjmWcb7XlTL",
        "outputId": "e25df983-265f-4715-e53c-fa5c53872663"
      },
      "source": [
        "anime.select('name', 'rating').where((col(\"rating\").isNotNull())).sort(col(\"rating\").desc()).show(10, truncate=False) #a simple query to select name and rating column form anime table, order by rating... "
      ],
      "execution_count": null,
      "outputs": [
        {
          "output_type": "stream",
          "name": "stdout",
          "text": [
            "+---------------------------------------+------+\n",
            "|name                                   |rating|\n",
            "+---------------------------------------+------+\n",
            "|Taka no Tsume 8: Yoshida-kun no X-Files|10.0  |\n",
            "|Spoon-hime no Swing Kitchen            |9.6   |\n",
            "|Mogura no Motoro                       |9.5   |\n",
            "|Kimi no Na wa.                         |9.37  |\n",
            "|Kahei no Umi                           |9.33  |\n",
            "|Fullmetal Alchemist: Brotherhood       |9.26  |\n",
            "|Yakusoku: Africa Mizu to Midori        |9.25  |\n",
            "|Gintama°                               |9.25  |\n",
            "|Steins;Gate                            |9.17  |\n",
            "|Gintama&#039;                          |9.16  |\n",
            "+---------------------------------------+------+\n",
            "only showing top 10 rows\n",
            "\n"
          ]
        }
      ]
    },
    {
      "cell_type": "markdown",
      "metadata": {
        "id": "bWfmmRnY07gs"
      },
      "source": [
        "My second method took a pure average rating based on Ratings RDD. I created an RDD with a query that removed any ratings with a ‘-1’ value. It also used an aggerate function, avg(), which gave a mean value for each anime_id and grouped these anime_id together. I joined this to the Anime RDD and selected the anime name and my calculated mean rating, ordered in descending order."
      ]
    },
    {
      "cell_type": "code",
      "metadata": {
        "colab": {
          "base_uri": "https://localhost:8080/"
        },
        "id": "2lft_C7_YEi0",
        "outputId": "5dde5006-fadd-40cd-abd2-ec831f6affa4"
      },
      "source": [
        "mean_rating = ratings.where(col('rating')>-1).groupBy('anime_id').agg(avg('rating').alias('avg_rating')) #remove -1 and averge the rest per anime id\n",
        "anime_mean_ratings = mean_rating.join(anime, mean_rating.anime_id == anime.anime_id, 'inner') # inner join to anime to get name info (and remove any that dont appear in both tables)\n",
        "anime_mean_ratings.select('name', round(col('avg_rating'),2).alias('avg_rating')).sort(col(\"rating\").desc()).show(10, truncate=False)\n"
      ],
      "execution_count": null,
      "outputs": [
        {
          "output_type": "stream",
          "name": "stdout",
          "text": [
            "+---------------------------------------------------------+----------+\n",
            "|name                                                     |avg_rating|\n",
            "+---------------------------------------------------------+----------+\n",
            "|Kimi no Na wa.                                           |9.43      |\n",
            "|Fullmetal Alchemist: Brotherhood                         |9.32      |\n",
            "|Gintama°                                                 |9.45      |\n",
            "|Steins;Gate                                              |9.26      |\n",
            "|Gintama&#039;                                            |9.27      |\n",
            "|Haikyuu!!: Karasuno Koukou VS Shiratorizawa Gakuen Koukou|9.17      |\n",
            "|Hunter x Hunter (2011)                                   |9.23      |\n",
            "|Gintama&#039;: Enchousen                                 |9.2       |\n",
            "|Ginga Eiyuu Densetsu                                     |9.39      |\n",
            "|Gintama Movie: Kanketsu-hen - Yorozuya yo Eien Nare      |9.19      |\n",
            "+---------------------------------------------------------+----------+\n",
            "only showing top 10 rows\n",
            "\n"
          ]
        }
      ]
    },
    {
      "cell_type": "markdown",
      "metadata": {
        "id": "i-0_hIs81JMD"
      },
      "source": [
        "My third method was based on the formula used by IMDb to calculate their Top 250 titles - see appendix\n",
        "\n",
        "My next step was to create an RDD called eligableAnime – I created a SparkSQL instance which returned anime_id, an aggarate function which counted the number of ratings made against it, an aggarate function which returned the mean rating and a sub query which returned the mean rating of the whole table. I only included anime with over 100 votes, unlike IMDb which is 25,000. I inner joined this with eligible users so only their votes are counted. \n",
        "Once I had my dataset I created another SparkSQL instance to calculate the Weighted Average and joined it to the Anime RDD. I selected the anime name and ordered by rating in descending order.\n"
      ]
    },
    {
      "cell_type": "code",
      "metadata": {
        "id": "2CJ9Pab1uuvC",
        "colab": {
          "base_uri": "https://localhost:8080/"
        },
        "outputId": "b324b841-6cff-4b3b-8f77-f75c8f5cb89e"
      },
      "source": [
        "\n",
        "ratings.createOrReplaceTempView(\"ratings\") #create temp view from rdd\n",
        "eligableUsers = spark.sql((\"SELECT user_id   FROM ratings where rating> -1 group by user_id having count(user_id)>10 \")) #sql instance - determine eligable users by selecting user ids with 10 votes greater than -1\n",
        "eligableAnime = spark.sql((\"SELECT anime_id, count(anime_id) as animeRatingCount, round(avg(rating), 2) as averageRating FROM ratings where rating >-1 and user_id in (SELECT user_id FROM ratings where rating> -1 group by user_id having count(user_id)>10 )group by anime_id having count(anime_id)>100\")) \n",
        "#determine eligable anime, with over 100 votes (greater that -1) and only counting eligable users. also includes average and number of ratings\n",
        "eligableAnime.show()"
      ],
      "execution_count": null,
      "outputs": [
        {
          "output_type": "stream",
          "name": "stdout",
          "text": [
            "+--------+----------------+-------------+\n",
            "|anime_id|animeRatingCount|averageRating|\n",
            "+--------+----------------+-------------+\n",
            "|    8086|            3837|         7.94|\n",
            "|   17389|             757|          8.6|\n",
            "|    2866|             229|         7.15|\n",
            "|    5300|            3814|         8.69|\n",
            "|   30654|            2379|         8.69|\n",
            "|    1088|            1127|         8.18|\n",
            "|    1829|            2638|         7.34|\n",
            "|    1238|             698|         7.68|\n",
            "|    1342|             140|         6.03|\n",
            "|   17679|             116|         7.29|\n",
            "|    2142|             481|         6.68|\n",
            "|     463|            1678|          7.6|\n",
            "|   25517|             697|         8.09|\n",
            "|    1591|             275|         6.36|\n",
            "|    9465|            1942|          8.1|\n",
            "|   22097|             909|         8.13|\n",
            "|   11033|             253|         7.41|\n",
            "|    6336|             711|         8.49|\n",
            "|     471|             388|         6.85|\n",
            "|   33569|             137|         7.11|\n",
            "+--------+----------------+-------------+\n",
            "only showing top 20 rows\n",
            "\n"
          ]
        }
      ]
    },
    {
      "cell_type": "code",
      "metadata": {
        "colab": {
          "base_uri": "https://localhost:8080/"
        },
        "id": "8mSa6N4pJ9YV",
        "outputId": "732adfcd-3273-4c6b-aade-a31705f83dd1"
      },
      "source": [
        "ratings.where(col('rating')>-1).agg(round(avg('rating'),2)).take(1) #gets the average rating across whole report\n"
      ],
      "execution_count": null,
      "outputs": [
        {
          "output_type": "execute_result",
          "data": {
            "text/plain": [
              "[Row(round(avg(rating), 2)=7.81)]"
            ]
          },
          "metadata": {},
          "execution_count": 29
        }
      ]
    },
    {
      "cell_type": "code",
      "metadata": {
        "colab": {
          "base_uri": "https://localhost:8080/"
        },
        "id": "jspx3ALAZKq-",
        "outputId": "5d1aeca7-bf60-4122-cb78-aeac1ad20b26"
      },
      "source": [
        "#create temp view from rdd\n",
        "ratings.createOrReplaceTempView(\"ratings\") #create temp view from rdd\n",
        "#sql instance - determine eligable users by selecting user ids with 10 votes greater than -1\n",
        "eligableUsers = spark.sql((\"SELECT user_id  FROM ratings where rating> -1 group by user_id having count(user_id)>10 \"))\n",
        "#create temp view from rdd\n",
        "eligableUsers.createOrReplaceTempView(\"eligableUsers\")\n",
        "#determine eligable anime, with over 100 votes (greater that -1) and only counting eligable users buy joining table. also includes average and number of ratings and a column showing the mean across whole report\n",
        "eligableAnime = spark.sql((\"SELECT anime_id, count(anime_id) as c, round(avg(rating),2) as a, (select round(avg(rating),2)from ratings where rating >-1) as m FROM ratings inner join eligableUsers on eligableUsers.user_id = ratings.user_id group by anime_id having count(anime_id)>100 \"))\n",
        "#create temp view from rdd\n",
        "eligableAnime.createOrReplaceTempView(\"eligableAnime\")\n",
        "#gets weighted average by using formula\n",
        "weightedRating = spark.sql(\"select anime_id, round(((a*c)+(m*100))/(c+100),2) as weightedAverage from eligableAnime\")\n",
        "weightedRating.show()"
      ],
      "execution_count": null,
      "outputs": [
        {
          "output_type": "stream",
          "name": "stdout",
          "text": [
            "+--------+---------------+\n",
            "|anime_id|weightedAverage|\n",
            "+--------+---------------+\n",
            "|    8086|           7.13|\n",
            "|   17389|           7.62|\n",
            "|    2866|            5.9|\n",
            "|    5300|           7.76|\n",
            "|   30654|           7.62|\n",
            "|    1088|           7.17|\n",
            "|    1829|           6.57|\n",
            "|    1238|           6.08|\n",
            "|    1342|           6.46|\n",
            "|   17679|           6.95|\n",
            "|    2142|           6.04|\n",
            "|     463|           6.11|\n",
            "|   25517|           7.07|\n",
            "|    1591|           5.93|\n",
            "|    9465|           6.94|\n",
            "|   22097|           7.03|\n",
            "|   11033|           6.15|\n",
            "|    6336|           7.75|\n",
            "|     471|           6.01|\n",
            "|   33569|           6.49|\n",
            "+--------+---------------+\n",
            "only showing top 20 rows\n",
            "\n"
          ]
        }
      ]
    },
    {
      "cell_type": "code",
      "metadata": {
        "colab": {
          "base_uri": "https://localhost:8080/"
        },
        "id": "bzC18q5cj-dk",
        "outputId": "2fa1d653-8600-472b-ae39-3c5241b03d47"
      },
      "source": [
        "#for comparison sakes....\n",
        "weightedRating.join(mean_rating, weightedRating.anime_id == mean_rating.anime_id, 'inner').show()\n"
      ],
      "execution_count": null,
      "outputs": [
        {
          "output_type": "stream",
          "name": "stdout",
          "text": [
            "+--------+---------------+--------+------------------+\n",
            "|anime_id|weightedAverage|anime_id|        avg_rating|\n",
            "+--------+---------------+--------+------------------+\n",
            "|    8086|           7.13|    8086| 7.939071817474721|\n",
            "|   17389|           7.62|   17389| 8.601839684625492|\n",
            "|    2866|            5.9|    2866|7.1645021645021645|\n",
            "|    5300|           7.76|    5300| 8.694010416666666|\n",
            "|   30654|           7.62|   30654| 8.687342833193629|\n",
            "|    1088|           7.17|    1088| 8.186784140969163|\n",
            "|    1829|           6.57|    1829| 7.341757827235005|\n",
            "|    1238|           6.08|    1238| 7.679542203147354|\n",
            "|    1342|           6.46|    1342| 6.035460992907802|\n",
            "|   17679|           6.95|   17679| 7.293103448275862|\n",
            "|    2142|           6.04|    2142|6.6969072164948455|\n",
            "|     463|           6.11|     463| 7.601311084624553|\n",
            "|   25517|           7.07|   25517| 8.091559370529328|\n",
            "|    1591|           5.93|    1591|              6.36|\n",
            "|    9465|           6.94|    9465| 8.098352214212152|\n",
            "|   22097|           7.03|   22097|  8.13076923076923|\n",
            "|   11033|           6.15|   11033| 7.417322834645669|\n",
            "|    6336|           7.75|    6336| 8.497902097902099|\n",
            "|     471|           6.01|     471| 6.866666666666666|\n",
            "|   33569|           6.49|   33569| 7.109489051094891|\n",
            "+--------+---------------+--------+------------------+\n",
            "only showing top 20 rows\n",
            "\n"
          ]
        }
      ]
    },
    {
      "cell_type": "code",
      "metadata": {
        "colab": {
          "base_uri": "https://localhost:8080/"
        },
        "id": "sycwvaDIjsWr",
        "outputId": "1bd98607-2cdb-4868-ad14-8138b228280b"
      },
      "source": [
        "#joining with anime rdd to get names and dsiplay top 10\n",
        "weightedAnime = anime.join(weightedRating, weightedRating.anime_id == anime.anime_id, 'inner')\n",
        "weightedAnime.select('name', 'weightedAverage').sort(col('weightedAverage').desc()).show(10, truncate=False)\n",
        "\n"
      ],
      "execution_count": null,
      "outputs": [
        {
          "output_type": "stream",
          "name": "stdout",
          "text": [
            "+----------------------------------+---------------+\n",
            "|name                              |weightedAverage|\n",
            "+----------------------------------+---------------+\n",
            "|Steins;Gate                       |8.78           |\n",
            "|Kimi no Na wa.                    |8.78           |\n",
            "|Fullmetal Alchemist: Brotherhood  |8.77           |\n",
            "|Ginga Eiyuu Densetsu              |8.7            |\n",
            "|Hunter x Hunter (2011)            |8.63           |\n",
            "|Clannad: After Story              |8.6            |\n",
            "|Code Geass: Hangyaku no Lelouch R2|8.51           |\n",
            "|Gintama                           |8.47           |\n",
            "|Gintama°                          |8.46           |\n",
            "|Tengen Toppa Gurren Lagann        |8.43           |\n",
            "+----------------------------------+---------------+\n",
            "only showing top 10 rows\n",
            "\n"
          ]
        }
      ]
    },
    {
      "cell_type": "markdown",
      "metadata": {
        "id": "gQnv0FSpqiRk"
      },
      "source": [
        "~~Q4. Find the top 10 anime with the most episodes. Use tabular/graphical presentation to provide evidence of your analysis.~~\n"
      ]
    },
    {
      "cell_type": "markdown",
      "metadata": {
        "id": "_vF9s2ez40Jc"
      },
      "source": [
        "This question was included in error, but i answered it anyway.\n",
        "\n",
        "I had to clean the Anime data before getting the result. PrintSchema() showed that the datatype for Episodes was a string. When I ran anime.describe().show(). I noticed that the maximum value of Episodes was “unknown”. First I removed these “unknown” values and then converted the column to integer. I ran a pyspark select query and ordered by episodes in descending order to get a Top 10 list\n"
      ]
    },
    {
      "cell_type": "code",
      "metadata": {
        "id": "zADjKUlIKCp3",
        "colab": {
          "base_uri": "https://localhost:8080/"
        },
        "outputId": "fa4ae3dc-7c40-4994-88da-862fd8ab2a19"
      },
      "source": [
        "\n",
        "episodeList = anime.where((col(\"episodes\") != \"Unknown\" )) #remove results with unknown\n",
        "episodeList = episodeList.withColumn(\"episodes\", episodeList[\"episodes\"].cast(IntegerType())) #comnvert from string to int\n",
        "episodeList.select('name', 'episodes').sort(col('episodes').desc()).show(10, truncate=False)"
      ],
      "execution_count": null,
      "outputs": [
        {
          "output_type": "stream",
          "name": "stdout",
          "text": [
            "+-------------------------------------+--------+\n",
            "|name                                 |episodes|\n",
            "+-------------------------------------+--------+\n",
            "|Oyako Club                           |1818    |\n",
            "|Doraemon (1979)                      |1787    |\n",
            "|Kirin Monoshiri Yakata               |1565    |\n",
            "|Manga Nippon Mukashibanashi (1976)   |1471    |\n",
            "|Hoka Hoka Kazoku                     |1428    |\n",
            "|Kirin Ashita no Calendar             |1306    |\n",
            "|Monoshiri Daigaku: Ashita no Calendar|1274    |\n",
            "|Sekai Monoshiri Ryoko                |1006    |\n",
            "|Kotowaza House                       |773     |\n",
            "|Shima Shima Tora no Shimajirou       |726     |\n",
            "+-------------------------------------+--------+\n",
            "only showing top 10 rows\n",
            "\n"
          ]
        }
      ]
    },
    {
      "cell_type": "markdown",
      "metadata": {
        "id": "t1TM7DOWF6_W"
      },
      "source": [
        "Q4. Find the top 10 genre based on user rating."
      ]
    },
    {
      "cell_type": "markdown",
      "metadata": {
        "id": "LWNTSTFy4696"
      },
      "source": [
        "I created an RDD with just anime_id and created a column called genreArray which included the values from genre but splitted by the comma. I then used explode() to make each value in genreArray and individual item. I joined this RDD to Anime/Ratings/WeightedRating and returned a Top 10 using the three methods in question 3 (but replacing anime_id with genreArray)"
      ]
    },
    {
      "cell_type": "code",
      "metadata": {
        "colab": {
          "base_uri": "https://localhost:8080/"
        },
        "id": "qsipV6awO2m4",
        "outputId": "2cfd2c4d-4518-4c97-a106-0052020e85f2"
      },
      "source": [
        "#split genre - bit like a composite key (anime/genre)\n",
        "genreSplit = anime.select(\"anime_id\", split(col(\"genre\"),\",\").alias(\"genreArray\")).drop(\"name\")\n",
        "genreSplit = genreSplit.select(\"anime_id\", explode(\"genreArray\").alias(\"genreArray\"))\n",
        "genreSplit.show()\n",
        "\n"
      ],
      "execution_count": null,
      "outputs": [
        {
          "output_type": "stream",
          "name": "stdout",
          "text": [
            "+--------+-------------+\n",
            "|anime_id|   genreArray|\n",
            "+--------+-------------+\n",
            "|   32281|        Drama|\n",
            "|   32281|      Romance|\n",
            "|   32281|       School|\n",
            "|   32281| Supernatural|\n",
            "|    5114|       Action|\n",
            "|    5114|    Adventure|\n",
            "|    5114|        Drama|\n",
            "|    5114|      Fantasy|\n",
            "|    5114|        Magic|\n",
            "|    5114|     Military|\n",
            "|    5114|      Shounen|\n",
            "|   28977|       Action|\n",
            "|   28977|       Comedy|\n",
            "|   28977|   Historical|\n",
            "|   28977|       Parody|\n",
            "|   28977|      Samurai|\n",
            "|   28977|       Sci-Fi|\n",
            "|   28977|      Shounen|\n",
            "|    9253|       Sci-Fi|\n",
            "|    9253|     Thriller|\n",
            "+--------+-------------+\n",
            "only showing top 20 rows\n",
            "\n"
          ]
        }
      ]
    },
    {
      "cell_type": "code",
      "metadata": {
        "colab": {
          "base_uri": "https://localhost:8080/"
        },
        "id": "nABqszCpSXvy",
        "outputId": "0b726a8f-87db-4f67-f993-c833b9c3c554"
      },
      "source": [
        "#using anime RDD to join to my genreSplit RDD, group by genre and find the average rating\n",
        "anime_genre = anime.join(genreSplit, genreSplit.anime_id == anime.anime_id, 'inner')\n",
        "anime_genre.groupBy('genreArray').agg(round(avg('rating'),2).alias('avg_rating')).sort(col('avg_rating').desc()).show(10)\n",
        "\n"
      ],
      "execution_count": null,
      "outputs": [
        {
          "output_type": "stream",
          "name": "stdout",
          "text": [
            "+--------------+----------+\n",
            "|    genreArray|avg_rating|\n",
            "+--------------+----------+\n",
            "|         Josei|      7.45|\n",
            "|      Thriller|      7.39|\n",
            "|         Josei|      7.37|\n",
            "|       Mystery|      7.26|\n",
            "|         Drama|      7.15|\n",
            "| Psychological|      7.13|\n",
            "|        Police|      7.12|\n",
            "|       Shounen|      7.07|\n",
            "|       Mystery|      7.06|\n",
            "|       Romance|      7.03|\n",
            "+--------------+----------+\n",
            "only showing top 10 rows\n",
            "\n"
          ]
        }
      ]
    },
    {
      "cell_type": "code",
      "metadata": {
        "colab": {
          "base_uri": "https://localhost:8080/"
        },
        "id": "2-uCeN3CZztQ",
        "outputId": "f6f92389-4665-4b1a-ad7b-0eb147dd93c0"
      },
      "source": [
        "#using rating RDD to join to my genreSplit RDD, group by genre and find the average rating\n",
        "rating_genre = genreSplit.join(ratings, ratings.anime_id == genreSplit.anime_id, 'inner')\n",
        "rating_genre.where(col('rating')>-1).groupBy('genreArray').agg(round(avg('rating'),2).alias('avg_rating')).sort(col('avg_rating').desc()).show(10)\n"
      ],
      "execution_count": null,
      "outputs": [
        {
          "output_type": "stream",
          "name": "stdout",
          "text": [
            "+--------------+----------+\n",
            "|    genreArray|avg_rating|\n",
            "+--------------+----------+\n",
            "|         Josei|      8.57|\n",
            "|        Sci-Fi|       8.5|\n",
            "|      Thriller|      8.38|\n",
            "|       Mystery|      8.36|\n",
            "| Psychological|      8.33|\n",
            "|        Police|      8.17|\n",
            "|      Military|      8.11|\n",
            "| Psychological|       8.1|\n",
            "|       Samurai|       8.1|\n",
            "|    Historical|      8.08|\n",
            "+--------------+----------+\n",
            "only showing top 10 rows\n",
            "\n"
          ]
        }
      ]
    },
    {
      "cell_type": "code",
      "metadata": {
        "colab": {
          "base_uri": "https://localhost:8080/"
        },
        "id": "zgDXjQfgl_3i",
        "outputId": "5584b9dd-e173-4ac5-8c7e-1073c8c144f2"
      },
      "source": [
        "#using weighted average RDD to join to my genreSplit RDD,group by genre and find the average rating\n",
        "weighted_genre = genreSplit.join(weightedRating, weightedRating.anime_id == genreSplit.anime_id, 'inner')\n",
        "weighted_genre.groupBy('genreArray').agg(round(avg('weightedAverage'),2).alias('avg_weighted_rating')).sort(col('avg_weighted_rating').desc()).show(10)"
      ],
      "execution_count": null,
      "outputs": [
        {
          "output_type": "stream",
          "name": "stdout",
          "text": [
            "+--------------+-------------------+\n",
            "|    genreArray|avg_weighted_rating|\n",
            "+--------------+-------------------+\n",
            "|         Josei|               7.48|\n",
            "|  Martial Arts|               7.21|\n",
            "| Psychological|                7.2|\n",
            "|      Thriller|               7.17|\n",
            "|          Cars|               7.08|\n",
            "|          Game|               6.97|\n",
            "|       Mystery|               6.93|\n",
            "|        Sci-Fi|                6.9|\n",
            "| Psychological|               6.88|\n",
            "|    Historical|               6.86|\n",
            "+--------------+-------------------+\n",
            "only showing top 10 rows\n",
            "\n"
          ]
        }
      ]
    },
    {
      "cell_type": "markdown",
      "metadata": {
        "id": "fFSH_STSEUcd"
      },
      "source": [
        "**4. Student Activity: Design the recommendation system. Remember to split the dataset into training and testing to validate your recommendation model. This section would help you in answering question 5**\n",
        "\n",
        "Q5. Design a collaborative filter-based recommendation system. "
      ]
    },
    {
      "cell_type": "markdown",
      "metadata": {
        "id": "A19hwdbv5mov"
      },
      "source": [
        "Split ratings RDD into training and test (70%:30% split)"
      ]
    },
    {
      "cell_type": "code",
      "metadata": {
        "id": "sH0S0cGHsdz6"
      },
      "source": [
        "ratings =ratings.filter(col('rating')>-1)\n",
        "training, test = ratings.randomSplit([0.7, 0.3])"
      ],
      "execution_count": null,
      "outputs": []
    },
    {
      "cell_type": "markdown",
      "metadata": {
        "id": "y4bpRhzh6NPZ"
      },
      "source": [
        "Count in training/test/ratings rdd to ensure the split worked"
      ]
    },
    {
      "cell_type": "code",
      "metadata": {
        "colab": {
          "base_uri": "https://localhost:8080/"
        },
        "id": "GzumxH3UEIs-",
        "outputId": "7d3cca32-2a9b-4534-f60e-022af4c8cdea"
      },
      "source": [
        "print(\" Training: \\t\",training.count(), \"\\n Test: \\t\\t\", test.count(), \"\\n Total: \\t\", ratings.count()) "
      ],
      "execution_count": null,
      "outputs": [
        {
          "output_type": "stream",
          "name": "stdout",
          "text": [
            " Training: \t 4434169 \n",
            " Test: \t\t 1903072 \n",
            " Total: \t 6337241\n"
          ]
        }
      ]
    },
    {
      "cell_type": "markdown",
      "metadata": {
        "id": "OSOXTzKg6sK6"
      },
      "source": [
        "ALS function with following paramaters\n",
        "\n",
        "*   **Maximum number of iterations:** 5\n",
        "*   **Regularization parameter:** 0.2\n",
        "*   **Rank:**  5\n",
        "\n",
        "Chose these values based on lowest RMSE Score and offseting against time taken to run function i.e. performance\n",
        "\n"
      ]
    },
    {
      "cell_type": "code",
      "metadata": {
        "id": "1PhlImnHFU2k"
      },
      "source": [
        "\n",
        "als = ALS(maxIter=5, regParam=0.2, rank=5, userCol=\"user_id\", itemCol=\"anime_id\", ratingCol=\"rating\", coldStartStrategy=\"drop\")\n",
        "model = als.fit(training)"
      ],
      "execution_count": null,
      "outputs": []
    },
    {
      "cell_type": "code",
      "metadata": {
        "id": "6Nml7y-2YhSw",
        "colab": {
          "base_uri": "https://localhost:8080/"
        },
        "outputId": "7e71ead7-e47a-4a1f-c62a-2b168fafe154"
      },
      "source": [
        "predictions = model.transform(test)\n",
        "evaluator = RegressionEvaluator(metricName=\"rmse\", labelCol=\"rating\", predictionCol=\"prediction\")\n",
        "rmse = evaluator.evaluate(predictions)\n",
        "print(\"rmse: \", str(rmse))"
      ],
      "execution_count": null,
      "outputs": [
        {
          "output_type": "stream",
          "name": "stdout",
          "text": [
            "rmse:  1.18316795514684\n"
          ]
        }
      ]
    },
    {
      "cell_type": "markdown",
      "metadata": {
        "id": "xe1VOcREEzQW"
      },
      "source": [
        "**Student Activity: Analyse the output of the test dataset here.**\n",
        "\n",
        "Q6. Give example of best three anime recommendations for minimum of 10 users."
      ]
    },
    {
      "cell_type": "markdown",
      "metadata": {
        "id": "2QMg2G9Qx7gi"
      },
      "source": [
        "Return 10 users with three reccomendations (Anime_ID)"
      ]
    },
    {
      "cell_type": "code",
      "metadata": {
        "id": "xdob4pMiWbaQ",
        "colab": {
          "base_uri": "https://localhost:8080/"
        },
        "outputId": "fa0dfefb-c544-4f7c-ea87-1739d62ccd48"
      },
      "source": [
        "userRecs=model.recommendForAllUsers(3)\n",
        "userRecs.show(10, truncate=False)"
      ],
      "execution_count": null,
      "outputs": [
        {
          "output_type": "stream",
          "name": "stderr",
          "text": [
            "/usr/local/lib/python3.7/dist-packages/pyspark/sql/context.py:127: FutureWarning: Deprecated in 3.0.0. Use SparkSession.builder.getOrCreate() instead.\n",
            "  FutureWarning\n"
          ]
        },
        {
          "output_type": "stream",
          "name": "stdout",
          "text": [
            "+-------+-------------------------------------------------------------+\n",
            "|user_id|recommendations                                              |\n",
            "+-------+-------------------------------------------------------------+\n",
            "|1      |[{8353, 13.006674}, {32422, 12.772493}, {32400, 12.621555}]  |\n",
            "|3      |[{32400, 11.0943365}, {32422, 10.740921}, {8353, 10.0937395}]|\n",
            "|5      |[{32400, 8.138759}, {18047, 7.819317}, {30921, 7.783265}]    |\n",
            "|9      |[{32422, 10.5711565}, {32400, 10.363996}, {8353, 10.095681}] |\n",
            "|12     |[{32400, 11.784491}, {32422, 11.574874}, {8353, 11.018921}]  |\n",
            "|15     |[{32422, 12.673397}, {8353, 12.556646}, {32400, 12.183752}]  |\n",
            "|16     |[{32422, 11.310874}, {8353, 11.02991}, {32400, 10.786768}]   |\n",
            "|17     |[{32400, 10.470727}, {32422, 9.866263}, {6383, 9.382448}]    |\n",
            "|19     |[{32400, 10.957254}, {32422, 10.498608}, {6383, 9.933563}]   |\n",
            "|20     |[{32400, 14.038656}, {32422, 13.721368}, {8353, 13.354332}]  |\n",
            "+-------+-------------------------------------------------------------+\n",
            "only showing top 10 rows\n",
            "\n"
          ]
        }
      ]
    },
    {
      "cell_type": "markdown",
      "metadata": {
        "id": "Bg1v_3x3yCIt"
      },
      "source": [
        "Investigatged the userRecs RDD. Exploded the reccomendations to isolate the anime_id. Joined to the anime table to get the names"
      ]
    },
    {
      "cell_type": "code",
      "metadata": {
        "colab": {
          "base_uri": "https://localhost:8080/"
        },
        "id": "7M-A28t6N_vW",
        "outputId": "49df5d5b-b0e3-4df7-9376-92c144fa5b30"
      },
      "source": [
        "userRecs.printSchema()\n"
      ],
      "execution_count": null,
      "outputs": [
        {
          "output_type": "stream",
          "name": "stdout",
          "text": [
            "root\n",
            " |-- user_id: integer (nullable = false)\n",
            " |-- recommendations: array (nullable = true)\n",
            " |    |-- element: struct (containsNull = true)\n",
            " |    |    |-- anime_id: integer (nullable = true)\n",
            " |    |    |-- rating: float (nullable = true)\n",
            "\n"
          ]
        }
      ]
    },
    {
      "cell_type": "code",
      "metadata": {
        "id": "eNx9PVpXRPK1"
      },
      "source": [
        "\n",
        "userRecs = userRecs.select(col(\"user_id\"), explode(col(\"recommendations\")).alias(\"recs\")).drop(\"recommendations\")\n",
        "userRecs = userRecs.select(\"user_id\", col(\"recs.anime_id\").alias(\"reccomendations\"))\n",
        "#userRecs.show()\n"
      ],
      "execution_count": null,
      "outputs": []
    },
    {
      "cell_type": "code",
      "metadata": {
        "colab": {
          "base_uri": "https://localhost:8080/"
        },
        "id": "OE2vYv25azD-",
        "outputId": "63b944de-0f8c-4e3f-f701-7cabf2faf667"
      },
      "source": [
        "anime_userRecs = userRecs.join(anime, userRecs.reccomendations == anime.anime_id, 'inner')\n",
        "anime_userRecs.select(\"user_id\", \"name\").show()"
      ],
      "execution_count": null,
      "outputs": [
        {
          "output_type": "stream",
          "name": "stdout",
          "text": [
            "+-------+------------+\n",
            "|user_id|        name|\n",
            "+-------+------------+\n",
            "|      1|    Ketsuinu|\n",
            "|      1|  Doukyuusei|\n",
            "|      1|   KochinPa!|\n",
            "|      3|   KochinPa!|\n",
            "|      3|  Doukyuusei|\n",
            "|      3|    Ketsuinu|\n",
            "|      5|   KochinPa!|\n",
            "|      5| Seiyuu Deka|\n",
            "|      5|Kacchikenee!|\n",
            "|      9|  Doukyuusei|\n",
            "|      9|   KochinPa!|\n",
            "|      9|    Ketsuinu|\n",
            "|     12|   KochinPa!|\n",
            "|     12|  Doukyuusei|\n",
            "|     12|    Ketsuinu|\n",
            "|     15|  Doukyuusei|\n",
            "|     15|    Ketsuinu|\n",
            "|     15|   KochinPa!|\n",
            "|     16|  Doukyuusei|\n",
            "|     16|    Ketsuinu|\n",
            "+-------+------------+\n",
            "only showing top 20 rows\n",
            "\n"
          ]
        }
      ]
    },
    {
      "cell_type": "markdown",
      "metadata": {
        "id": "jvC65Wzeygnc"
      },
      "source": [
        "Made a wee function to enter a user ID and return three reccomendations. "
      ]
    },
    {
      "cell_type": "code",
      "metadata": {
        "colab": {
          "base_uri": "https://localhost:8080/"
        },
        "id": "m-jmGj3k6eLA",
        "outputId": "58b0e30f-2202-494f-e4e9-5a0a8cd1db8b"
      },
      "source": [
        "print(\"enter user id\")\n",
        "uID=input()\n",
        "if anime_userRecs.select('*').where(col('user_id')==uID).count() > 0:\n",
        "  anime_userRecs.select(\"user_id\",\"anime_id\", \"name\", 'genre').where(col('user_id')==uID).show(truncate=False)\n",
        "else:\n",
        "  print(\"user id not found\")"
      ],
      "execution_count": null,
      "outputs": [
        {
          "output_type": "stream",
          "name": "stdout",
          "text": [
            "enter user id\n",
            "27\n",
            "+-------+--------+----------+-----------+\n",
            "|user_id|anime_id|name      |genre      |\n",
            "+-------+--------+----------+-----------+\n",
            "|27     |8353    |Ketsuinu  |Comedy     |\n",
            "|27     |32422   |Doukyuusei|Kids, Music|\n",
            "|27     |32400   |KochinPa! |Comedy     |\n",
            "+-------+--------+----------+-----------+\n",
            "\n"
          ]
        }
      ]
    },
    {
      "cell_type": "markdown",
      "metadata": {
        "id": "hblwRqhyytJ1"
      },
      "source": [
        "Used user 27 to check reccomendations. First I checked against their previous ratings. They seem to be a fan of comedy and got reccomended two comedy.. "
      ]
    },
    {
      "cell_type": "code",
      "metadata": {
        "colab": {
          "base_uri": "https://localhost:8080/"
        },
        "id": "xXZDGgwS7NuJ",
        "outputId": "6945381d-b893-41cc-e5a5-10358d2548ae"
      },
      "source": [
        "anime_ratings.select(\"user_id\", \"name\", 'genre', ratings.rating).where(col('user_id')==27).show(truncate=False)"
      ],
      "execution_count": null,
      "outputs": [
        {
          "output_type": "stream",
          "name": "stdout",
          "text": [
            "+-------+-------------------------------------+------------------------------------------------------------------------+------+\n",
            "|user_id|name                                 |genre                                                                   |rating|\n",
            "+-------+-------------------------------------+------------------------------------------------------------------------+------+\n",
            "|27     |Fate/stay night                      |Action, Fantasy, Magic, Romance, Supernatural                           |8     |\n",
            "|27     |The Law of Ueki                      |Adventure, Comedy, Drama, Shounen, Supernatural                         |7     |\n",
            "|27     |Zero no Tsukaima                     |Action, Adventure, Comedy, Ecchi, Fantasy, Harem, Magic, Romance, School|9     |\n",
            "|27     |Death Note                           |Mystery, Police, Psychological, Supernatural, Thriller                  |8     |\n",
            "|27     |Code Geass: Hangyaku no Lelouch      |Action, Mecha, Military, School, Sci-Fi, Super Power                    |9     |\n",
            "|27     |Katekyo Hitman Reborn!               |Action, Comedy, Shounen, Super Power                                    |9     |\n",
            "|27     |Zero no Tsukaima: Futatsuki no Kishi |Action, Adventure, Comedy, Ecchi, Fantasy, Harem, Magic, Romance, School|10    |\n",
            "|27     |Clannad                              |Comedy, Drama, Romance, School, Slice of Life, Supernatural             |8     |\n",
            "|27     |Code Geass: Hangyaku no Lelouch R2   |Action, Drama, Mecha, Military, Sci-Fi, Super Power                     |9     |\n",
            "|27     |Rosario to Vampire                   |Comedy, Ecchi, Fantasy, Harem, Romance, School, Shounen, Vampire        |8     |\n",
            "|27     |To LOVE-Ru                           |Comedy, Ecchi, Harem, Romance, School, Sci-Fi                           |8     |\n",
            "|27     |Zero no Tsukaima: Princesses no Rondo|Action, Adventure, Comedy, Ecchi, Fantasy, Harem, Magic, Romance, School|9     |\n",
            "|27     |Clannad: After Story                 |Drama, Fantasy, Romance, Slice of Life, Supernatural                    |10    |\n",
            "|27     |Rosario to Vampire Capu2             |Comedy, Ecchi, Fantasy, Harem, Romance, School, Vampire                 |8     |\n",
            "|27     |Toradora!                            |Comedy, Romance, School, Slice of Life                                  |9     |\n",
            "|27     |Toaru Majutsu no Index               |Action, Magic, Sci-Fi, Super Power                                      |8     |\n",
            "|27     |Princess Lover!                      |Comedy, Ecchi, Harem, School                                            |8     |\n",
            "|27     |Toaru Kagaku no Railgun              |Action, Sci-Fi, Super Power                                             |8     |\n",
            "|27     |Omamori Himari                       |Action, Comedy, Demons, Ecchi, Harem, Romance, Supernatural             |8     |\n",
            "|27     |Baka to Test to Shoukanjuu           |Comedy, Romance, School, Super Power                                    |8     |\n",
            "+-------+-------------------------------------+------------------------------------------------------------------------+------+\n",
            "only showing top 20 rows\n",
            "\n"
          ]
        }
      ]
    },
    {
      "cell_type": "markdown",
      "metadata": {
        "id": "wBg5zFdVy9t_"
      },
      "source": [
        "I isolated the users who had rated user 27's reccomendations previously. I exported their ratings so I can compare with user 27's ratings. (Exported to CSV and imported to PowerBI to create a matrix table."
      ]
    },
    {
      "cell_type": "code",
      "metadata": {
        "id": "x8hwxNjd_aaj",
        "colab": {
          "base_uri": "https://localhost:8080/"
        },
        "outputId": "188d256b-5c0d-46e3-d216-aa62add06dc4"
      },
      "source": [
        "ratings.createOrReplaceTempView(\"ratings\")\n",
        "compareSet = spark.sql(\"select * from ratings where user_id in(select user_id from ratings where anime_id = 8353 or anime_id=32422 or anime_id=32400) \")\n",
        "compareSet.show()\n",
        "compareSet.createOrReplaceTempView(\"compareSet\")\n",
        "testSet = spark.sql(\"select * from ratings where user_id = 27 union select * from compareSet where anime_id in (select anime_id from ratings where user_id = 27) \")\n",
        "testSet.write.csv('testset')\n",
        "\n"
      ],
      "execution_count": null,
      "outputs": [
        {
          "output_type": "stream",
          "name": "stdout",
          "text": [
            "+-------+--------+------+\n",
            "|user_id|anime_id|rating|\n",
            "+-------+--------+------+\n",
            "|    799|      20|     7|\n",
            "|    799|      64|     7|\n",
            "|    799|     121|     7|\n",
            "|    799|     149|     7|\n",
            "|    799|     232|     7|\n",
            "|    799|     243|     9|\n",
            "|    799|     269|     8|\n",
            "|    799|     317|    10|\n",
            "|    799|     357|    10|\n",
            "|    799|     521|     6|\n",
            "|    799|     687|     7|\n",
            "|    799|     853|    10|\n",
            "|    799|     857|     8|\n",
            "|    799|     861|     8|\n",
            "|    799|     907|     7|\n",
            "|    799|     934|     9|\n",
            "|    799|    1482|    10|\n",
            "|    799|    1535|     9|\n",
            "|    799|    1604|    10|\n",
            "|    799|    1699|     6|\n",
            "+-------+--------+------+\n",
            "only showing top 20 rows\n",
            "\n"
          ]
        }
      ]
    },
    {
      "cell_type": "code",
      "metadata": {
        "id": "T_3xo50QvMBK",
        "colab": {
          "base_uri": "https://localhost:8080/"
        },
        "outputId": "71c97758-985e-46b5-b15b-9451185e2587"
      },
      "source": [
        "spark.sql(\"select user_id, anime_id, rating from ratings where (anime_id = 8353 or anime_id=32422 or anime_id=32400) and rating > 7  \").show()"
      ],
      "execution_count": null,
      "outputs": [
        {
          "output_type": "stream",
          "name": "stdout",
          "text": [
            "+-------+--------+------+\n",
            "|user_id|anime_id|rating|\n",
            "+-------+--------+------+\n",
            "|    799|   32422|     8|\n",
            "|  14805|   32400|    10|\n",
            "|  35309|   32422|    10|\n",
            "|  58567|    8353|    10|\n",
            "+-------+--------+------+\n",
            "\n"
          ]
        }
      ]
    }
  ]
}